{
 "cells": [
  {
   "cell_type": "code",
   "execution_count": 1,
   "id": "8879248a",
   "metadata": {},
   "outputs": [
    {
     "name": "stderr",
     "output_type": "stream",
     "text": [
      "C:\\Users\\gdk14\\anaconda3\\Lib\\site-packages\\torchvision\\models\\_utils.py:208: UserWarning: The parameter 'pretrained' is deprecated since 0.13 and may be removed in the future, please use 'weights' instead.\n",
      "  warnings.warn(\n",
      "C:\\Users\\gdk14\\anaconda3\\Lib\\site-packages\\torchvision\\models\\_utils.py:223: UserWarning: Arguments other than a weight enum or `None` for 'weights' are deprecated since 0.13 and may be removed in the future. The current behavior is equivalent to passing `weights=ResNet18_Weights.IMAGENET1K_V1`. You can also use `weights=ResNet18_Weights.DEFAULT` to get the most up-to-date weights.\n",
      "  warnings.warn(msg)\n"
     ]
    },
    {
     "data": {
      "text/plain": [
       "ResNet(\n",
       "  (conv1): Conv2d(3, 64, kernel_size=(7, 7), stride=(2, 2), padding=(3, 3), bias=False)\n",
       "  (bn1): BatchNorm2d(64, eps=1e-05, momentum=0.1, affine=True, track_running_stats=True)\n",
       "  (relu): ReLU(inplace=True)\n",
       "  (maxpool): MaxPool2d(kernel_size=3, stride=2, padding=1, dilation=1, ceil_mode=False)\n",
       "  (layer1): Sequential(\n",
       "    (0): BasicBlock(\n",
       "      (conv1): Conv2d(64, 64, kernel_size=(3, 3), stride=(1, 1), padding=(1, 1), bias=False)\n",
       "      (bn1): BatchNorm2d(64, eps=1e-05, momentum=0.1, affine=True, track_running_stats=True)\n",
       "      (relu): ReLU(inplace=True)\n",
       "      (conv2): Conv2d(64, 64, kernel_size=(3, 3), stride=(1, 1), padding=(1, 1), bias=False)\n",
       "      (bn2): BatchNorm2d(64, eps=1e-05, momentum=0.1, affine=True, track_running_stats=True)\n",
       "    )\n",
       "    (1): BasicBlock(\n",
       "      (conv1): Conv2d(64, 64, kernel_size=(3, 3), stride=(1, 1), padding=(1, 1), bias=False)\n",
       "      (bn1): BatchNorm2d(64, eps=1e-05, momentum=0.1, affine=True, track_running_stats=True)\n",
       "      (relu): ReLU(inplace=True)\n",
       "      (conv2): Conv2d(64, 64, kernel_size=(3, 3), stride=(1, 1), padding=(1, 1), bias=False)\n",
       "      (bn2): BatchNorm2d(64, eps=1e-05, momentum=0.1, affine=True, track_running_stats=True)\n",
       "    )\n",
       "  )\n",
       "  (layer2): Sequential(\n",
       "    (0): BasicBlock(\n",
       "      (conv1): Conv2d(64, 128, kernel_size=(3, 3), stride=(2, 2), padding=(1, 1), bias=False)\n",
       "      (bn1): BatchNorm2d(128, eps=1e-05, momentum=0.1, affine=True, track_running_stats=True)\n",
       "      (relu): ReLU(inplace=True)\n",
       "      (conv2): Conv2d(128, 128, kernel_size=(3, 3), stride=(1, 1), padding=(1, 1), bias=False)\n",
       "      (bn2): BatchNorm2d(128, eps=1e-05, momentum=0.1, affine=True, track_running_stats=True)\n",
       "      (downsample): Sequential(\n",
       "        (0): Conv2d(64, 128, kernel_size=(1, 1), stride=(2, 2), bias=False)\n",
       "        (1): BatchNorm2d(128, eps=1e-05, momentum=0.1, affine=True, track_running_stats=True)\n",
       "      )\n",
       "    )\n",
       "    (1): BasicBlock(\n",
       "      (conv1): Conv2d(128, 128, kernel_size=(3, 3), stride=(1, 1), padding=(1, 1), bias=False)\n",
       "      (bn1): BatchNorm2d(128, eps=1e-05, momentum=0.1, affine=True, track_running_stats=True)\n",
       "      (relu): ReLU(inplace=True)\n",
       "      (conv2): Conv2d(128, 128, kernel_size=(3, 3), stride=(1, 1), padding=(1, 1), bias=False)\n",
       "      (bn2): BatchNorm2d(128, eps=1e-05, momentum=0.1, affine=True, track_running_stats=True)\n",
       "    )\n",
       "  )\n",
       "  (layer3): Sequential(\n",
       "    (0): BasicBlock(\n",
       "      (conv1): Conv2d(128, 256, kernel_size=(3, 3), stride=(2, 2), padding=(1, 1), bias=False)\n",
       "      (bn1): BatchNorm2d(256, eps=1e-05, momentum=0.1, affine=True, track_running_stats=True)\n",
       "      (relu): ReLU(inplace=True)\n",
       "      (conv2): Conv2d(256, 256, kernel_size=(3, 3), stride=(1, 1), padding=(1, 1), bias=False)\n",
       "      (bn2): BatchNorm2d(256, eps=1e-05, momentum=0.1, affine=True, track_running_stats=True)\n",
       "      (downsample): Sequential(\n",
       "        (0): Conv2d(128, 256, kernel_size=(1, 1), stride=(2, 2), bias=False)\n",
       "        (1): BatchNorm2d(256, eps=1e-05, momentum=0.1, affine=True, track_running_stats=True)\n",
       "      )\n",
       "    )\n",
       "    (1): BasicBlock(\n",
       "      (conv1): Conv2d(256, 256, kernel_size=(3, 3), stride=(1, 1), padding=(1, 1), bias=False)\n",
       "      (bn1): BatchNorm2d(256, eps=1e-05, momentum=0.1, affine=True, track_running_stats=True)\n",
       "      (relu): ReLU(inplace=True)\n",
       "      (conv2): Conv2d(256, 256, kernel_size=(3, 3), stride=(1, 1), padding=(1, 1), bias=False)\n",
       "      (bn2): BatchNorm2d(256, eps=1e-05, momentum=0.1, affine=True, track_running_stats=True)\n",
       "    )\n",
       "  )\n",
       "  (layer4): Sequential(\n",
       "    (0): BasicBlock(\n",
       "      (conv1): Conv2d(256, 512, kernel_size=(3, 3), stride=(2, 2), padding=(1, 1), bias=False)\n",
       "      (bn1): BatchNorm2d(512, eps=1e-05, momentum=0.1, affine=True, track_running_stats=True)\n",
       "      (relu): ReLU(inplace=True)\n",
       "      (conv2): Conv2d(512, 512, kernel_size=(3, 3), stride=(1, 1), padding=(1, 1), bias=False)\n",
       "      (bn2): BatchNorm2d(512, eps=1e-05, momentum=0.1, affine=True, track_running_stats=True)\n",
       "      (downsample): Sequential(\n",
       "        (0): Conv2d(256, 512, kernel_size=(1, 1), stride=(2, 2), bias=False)\n",
       "        (1): BatchNorm2d(512, eps=1e-05, momentum=0.1, affine=True, track_running_stats=True)\n",
       "      )\n",
       "    )\n",
       "    (1): BasicBlock(\n",
       "      (conv1): Conv2d(512, 512, kernel_size=(3, 3), stride=(1, 1), padding=(1, 1), bias=False)\n",
       "      (bn1): BatchNorm2d(512, eps=1e-05, momentum=0.1, affine=True, track_running_stats=True)\n",
       "      (relu): ReLU(inplace=True)\n",
       "      (conv2): Conv2d(512, 512, kernel_size=(3, 3), stride=(1, 1), padding=(1, 1), bias=False)\n",
       "      (bn2): BatchNorm2d(512, eps=1e-05, momentum=0.1, affine=True, track_running_stats=True)\n",
       "    )\n",
       "  )\n",
       "  (avgpool): AdaptiveAvgPool2d(output_size=(1, 1))\n",
       "  (fc): Linear(in_features=512, out_features=47, bias=True)\n",
       ")"
      ]
     },
     "execution_count": 1,
     "metadata": {},
     "output_type": "execute_result"
    }
   ],
   "source": [
    "import torch\n",
    "import torch.nn as nn\n",
    "import torchvision.models as models\n",
    "\n",
    "# Define the path to the saved model file\n",
    "model_path = r'C:\\Users\\gdk14\\Desktop\\gruhit college\\Healthcare Analytics sem 4\\yoga pose detection\\resnet_model2.pth'\n",
    "\n",
    "# Initialize the ResNet-18 model\n",
    "model = models.resnet18(pretrained=True)\n",
    "\n",
    "# Set the number of classes to match the original model\n",
    "num_classes = 47\n",
    "\n",
    "# Replace the output layer with a new fully connected layer\n",
    "model.fc = nn.Linear(model.fc.in_features, num_classes)\n",
    "\n",
    "# Load the model's parameters\n",
    "model.load_state_dict(torch.load(model_path))\n",
    "\n",
    "# Set the model to evaluation mode\n",
    "model.eval()\n",
    "\n",
    "# Now you can use this model for inference in your new notebook\n"
   ]
  },
  {
   "cell_type": "code",
   "execution_count": 2,
   "id": "806e7648",
   "metadata": {},
   "outputs": [],
   "source": [
    "import torch\n",
    "import torch.nn as nn\n",
    "import torch.optim as optim\n",
    "import torchvision.models as models\n",
    "import torchvision.transforms as transforms\n",
    "from torch.utils.data import DataLoader\n",
    "import torchvision.datasets as datasets"
   ]
  },
  {
   "cell_type": "code",
   "execution_count": 3,
   "id": "88df06e3",
   "metadata": {},
   "outputs": [],
   "source": [
    "# Define the path to the saved model file\n",
    "model_path = r'C:\\Users\\gdk14\\Desktop\\gruhit college\\Healthcare Analytics sem 4\\yoga pose detection\\resnet_model2.pth'\n",
    "\n",
    "# Define number of classes for your new task\n",
    "num_classes = 47\n",
    "\n",
    "# Initialize the ResNet-18 model\n",
    "model = models.resnet18(pretrained=True)\n"
   ]
  },
  {
   "cell_type": "code",
   "execution_count": 4,
   "id": "b28f1923",
   "metadata": {},
   "outputs": [],
   "source": [
    "# Freeze the parameters of the pretrained layers\n",
    "for param in model.parameters():\n",
    "    param.requires_grad = False\n"
   ]
  },
  {
   "cell_type": "code",
   "execution_count": 5,
   "id": "f82025da",
   "metadata": {},
   "outputs": [],
   "source": [
    "# Replace the output layer with a new fully connected layer\n",
    "model.fc = nn.Linear(model.fc.in_features, num_classes)\n",
    "\n",
    "# Load the model's parameters\n",
    "model.load_state_dict(torch.load(model_path))\n",
    "\n",
    "# Set the model to training mode\n",
    "model.train()\n",
    "\n",
    "# Define the loss function\n",
    "criterion = nn.CrossEntropyLoss()\n",
    "\n",
    "# Define the optimizer\n",
    "optimizer = optim.Adam(model.parameters(), lr=0.001)"
   ]
  },
  {
   "cell_type": "code",
   "execution_count": 6,
   "id": "282f7b47",
   "metadata": {},
   "outputs": [],
   "source": [
    "from torch.utils.data import DataLoader, random_split\n",
    "\n",
    "dataset_path = r'C:\\Users\\gdk14\\Desktop\\gruhit college\\Healthcare Analytics sem 4\\yoga pose detection\\data'\n",
    "\n",
    "# Define the transformation for your dataset\n",
    "data_transform = transforms.Compose([\n",
    "    # define your transformations here\n",
    "    transforms.Resize((224, 224)),\n",
    "    transforms.ToTensor(),\n",
    "    transforms.Normalize(mean=[0.485, 0.456, 0.406], std=[0.229, 0.224, 0.225])\n",
    "])\n",
    "\n",
    "# Load the dataset\n",
    "dataset = datasets.ImageFolder(root=dataset_path, transform=data_transform)\n",
    "\n",
    "# Calculate the sizes of each split\n",
    "total_size = len(dataset)\n",
    "train_size = int(0.7 * total_size)\n",
    "val_size = int(0.2 * total_size)\n",
    "test_size = total_size - train_size - val_size\n",
    "\n",
    "# Split the dataset into train, validation, and test sets\n",
    "train_dataset, val_dataset, test_dataset = random_split(dataset, [train_size, val_size, test_size])\n",
    "\n",
    "# Define data loaders for each split\n",
    "batch_size = 32  # Adjust batch size as needed\n",
    "train_loader = DataLoader(train_dataset, batch_size=batch_size, shuffle=True)\n",
    "val_loader = DataLoader(val_dataset, batch_size=batch_size, shuffle=False)\n",
    "test_loader = DataLoader(test_dataset, batch_size=batch_size, shuffle=False)"
   ]
  },
  {
   "cell_type": "code",
   "execution_count": 7,
   "id": "153a1578",
   "metadata": {},
   "outputs": [
    {
     "name": "stderr",
     "output_type": "stream",
     "text": [
      "C:\\Users\\gdk14\\anaconda3\\Lib\\site-packages\\PIL\\Image.py:996: UserWarning: Palette images with Transparency expressed in bytes should be converted to RGBA images\n",
      "  warnings.warn(\n"
     ]
    },
    {
     "name": "stdout",
     "output_type": "stream",
     "text": [
      "Epoch [1/10], Loss: 0.0094, Validation Loss: 0.0539, Validation Accuracy: 97.82%\n",
      "Epoch [2/10], Loss: 0.0002, Validation Loss: 0.0558, Validation Accuracy: 97.64%\n",
      "Epoch [3/10], Loss: 0.0511, Validation Loss: 0.0584, Validation Accuracy: 97.64%\n",
      "Epoch [4/10], Loss: 0.3040, Validation Loss: 0.0673, Validation Accuracy: 97.28%\n",
      "Epoch [5/10], Loss: 0.0407, Validation Loss: 0.0645, Validation Accuracy: 98.00%\n",
      "Epoch [6/10], Loss: 0.0206, Validation Loss: 0.0678, Validation Accuracy: 98.00%\n",
      "Epoch [7/10], Loss: 0.0068, Validation Loss: 0.0652, Validation Accuracy: 97.64%\n",
      "Epoch [8/10], Loss: 0.0023, Validation Loss: 0.0671, Validation Accuracy: 97.64%\n",
      "Epoch [9/10], Loss: 0.0250, Validation Loss: 0.0741, Validation Accuracy: 97.10%\n",
      "Epoch [10/10], Loss: 0.2023, Validation Loss: 0.0601, Validation Accuracy: 98.00%\n"
     ]
    }
   ],
   "source": [
    "# Train the model\n",
    "num_epochs = 10\n",
    "for epoch in range(num_epochs):\n",
    "    for images, labels in train_loader:\n",
    "        optimizer.zero_grad()\n",
    "        outputs = model(images)\n",
    "        loss = criterion(outputs, labels)\n",
    "        loss.backward()\n",
    "        optimizer.step()\n",
    "\n",
    "    # Validate the model\n",
    "    model.eval()\n",
    "    val_loss = 0.0\n",
    "    correct = 0\n",
    "    total = 0\n",
    "    with torch.no_grad():\n",
    "        for images, labels in val_loader:\n",
    "            outputs = model(images)\n",
    "            _, predicted = torch.max(outputs.data, 1)\n",
    "            total += labels.size(0)\n",
    "            correct += (predicted == labels).sum().item()\n",
    "            val_loss += criterion(outputs, labels).item()\n",
    "\n",
    "    print(f\"Epoch [{epoch+1}/{num_epochs}], Loss: {loss.item():.4f}, Validation Loss: {val_loss/len(val_loader):.4f}, Validation Accuracy: {(correct/total)*100:.2f}%\")"
   ]
  },
  {
   "cell_type": "code",
   "execution_count": 10,
   "id": "45f7c68e",
   "metadata": {},
   "outputs": [
    {
     "name": "stderr",
     "output_type": "stream",
     "text": [
      "C:\\Users\\gdk14\\anaconda3\\Lib\\site-packages\\PIL\\Image.py:996: UserWarning: Palette images with Transparency expressed in bytes should be converted to RGBA images\n",
      "  warnings.warn(\n"
     ]
    },
    {
     "name": "stdout",
     "output_type": "stream",
     "text": [
      "Validation Accuracy: 0.9800\n",
      "Confusion Matrix:\n",
      "[[11  0  0 ...  0  0  0]\n",
      " [ 0 11  0 ...  0  0  1]\n",
      " [ 0  0  2 ...  0  0  0]\n",
      " ...\n",
      " [ 0  0  0 ...  8  0  0]\n",
      " [ 0  0  0 ...  0  9  0]\n",
      " [ 0  0  0 ...  0  0 17]]\n",
      "F1 Score: 0.9792\n",
      "Classification Report:\n",
      "                               precision    recall  f1-score   support\n",
      "\n",
      "         Adho Mukha Svanasana       1.00      1.00      1.00        11\n",
      "         Adho Mukha Vrksasana       0.92      0.92      0.92        12\n",
      "                    Alanasana       1.00      1.00      1.00         2\n",
      "                 Anjaneyasana       1.00      1.00      1.00        15\n",
      "            Ardha Chandrasana       1.00      1.00      1.00        13\n",
      "         Ardha Matsyendrasana       1.00      0.96      0.98        23\n",
      "               Ardha Navasana       0.80      1.00      0.89         4\n",
      "      Ardha Pincha Mayurasana       1.00      1.00      1.00         9\n",
      "            Ashta Chandrasana       1.00      1.00      1.00         2\n",
      "              Baddha Konasana       0.94      1.00      0.97        16\n",
      "                     Bakasana       1.00      0.95      0.97        20\n",
      "                     Balasana       1.00      1.00      1.00        20\n",
      "                   Bitilasana       0.96      1.00      0.98        22\n",
      "                Camatkarasana       1.00      0.91      0.95        11\n",
      "                  Dhanurasana       1.00      0.92      0.96        13\n",
      "      Eka Pada Rajakapotasana       0.91      1.00      0.95        10\n",
      "                   Garudasana       1.00      0.93      0.96        14\n",
      "                     Halasana       1.00      1.00      1.00        15\n",
      "                 Hanumanasana       1.00      1.00      1.00        11\n",
      "                     Malasana       0.92      1.00      0.96        11\n",
      "                 Marjaryasana       1.00      0.86      0.92         7\n",
      "                     Navasana       1.00      1.00      1.00         2\n",
      "                    Padmasana       1.00      1.00      1.00        14\n",
      "        Parsva Virabhadrasana       1.00      1.00      1.00        10\n",
      "              Parsvottanasana       1.00      1.00      1.00        12\n",
      "            Paschimottanasana       1.00      1.00      1.00        11\n",
      "                  Phalakasana       1.00      0.75      0.86         8\n",
      "            Pincha Mayurasana       0.93      1.00      0.96        13\n",
      "         Salamba Bhujangasana       1.00      1.00      1.00        14\n",
      "         Salamba Sarvangasana       1.00      1.00      1.00        16\n",
      "     Setu Bandha Sarvangasana       1.00      1.00      1.00         2\n",
      "                     Sivasana       1.00      1.00      1.00         2\n",
      "             Supta Kapotasana       1.00      1.00      1.00         3\n",
      "                  Trikonasana       1.00      1.00      1.00         2\n",
      "           Upavistha Konasana       0.92      1.00      0.96        23\n",
      "           Urdhva Dhanurasana       1.00      0.86      0.92        14\n",
      "       Urdhva Mukha Svsnssana       1.00      1.00      1.00        19\n",
      "                    Ustrasana       1.00      1.00      1.00        18\n",
      "                   Utkatasana       1.00      1.00      1.00        19\n",
      "                   Uttanasana       1.00      1.00      1.00        15\n",
      "Utthita Hasta Padangusthasana       1.00      1.00      1.00        16\n",
      "       Utthita Parsvakonasana       0.92      1.00      0.96        12\n",
      "                 Vasisthasana       1.00      1.00      1.00        11\n",
      "           Virabhadrasana One       1.00      1.00      1.00         8\n",
      "         Virabhadrasana Three       1.00      1.00      1.00         9\n",
      "           Virabhadrasana Two       0.94      1.00      0.97        17\n",
      "\n",
      "                     accuracy                           0.98       551\n",
      "                    macro avg       0.98      0.98      0.98       551\n",
      "                 weighted avg       0.98      0.98      0.98       551\n",
      "\n"
     ]
    },
    {
     "name": "stderr",
     "output_type": "stream",
     "text": [
      "C:\\Users\\gdk14\\anaconda3\\Lib\\site-packages\\sklearn\\metrics\\_classification.py:2555: UserWarning: labels size, 46, does not match size of target_names, 47\n",
      "  warnings.warn(\n"
     ]
    }
   ],
   "source": [
    "from sklearn.metrics import confusion_matrix, classification_report, f1_score\n",
    "import numpy as np\n",
    "\n",
    "# Set device\n",
    "device = torch.device(\"cuda\" if torch.cuda.is_available() else \"cpu\")\n",
    "\n",
    "# Validation\n",
    "model.eval()\n",
    "val_correct = 0\n",
    "val_total = 0\n",
    "val_predictions = []\n",
    "val_targets = []\n",
    "\n",
    "with torch.no_grad():\n",
    "    for inputs, labels in val_loader:\n",
    "        inputs, labels = inputs.to(device), labels.to(device)\n",
    "        outputs = model(inputs)\n",
    "        _, predicted = torch.max(outputs, 1)\n",
    "        val_total += labels.size(0)\n",
    "        val_correct += (predicted == labels).sum().item()\n",
    "        \n",
    "        val_predictions.extend(predicted.cpu().numpy())\n",
    "        val_targets.extend(labels.cpu().numpy())\n",
    "\n",
    "val_accuracy = val_correct / val_total\n",
    "print(f\"Validation Accuracy: {val_accuracy:.4f}\")\n",
    "\n",
    "# Calculate confusion matrix\n",
    "conf_matrix = confusion_matrix(val_targets, val_predictions)\n",
    "print(\"Confusion Matrix:\")\n",
    "print(conf_matrix)\n",
    "\n",
    "# Calculate F1 score\n",
    "f1 = f1_score(val_targets, val_predictions, average='macro')\n",
    "print(f\"F1 Score: {f1:.4f}\")\n",
    "\n",
    "# Generate classification report\n",
    "class_names = dataset.classes\n",
    "report = classification_report(val_targets, val_predictions, labels=np.unique(val_targets), target_names=class_names)\n",
    "print(\"Classification Report:\")\n",
    "print(report)\n"
   ]
  },
  {
   "cell_type": "code",
   "execution_count": 11,
   "id": "292a2a54",
   "metadata": {},
   "outputs": [
    {
     "name": "stdout",
     "output_type": "stream",
     "text": [
      "Test Accuracy: 94.93%\n"
     ]
    }
   ],
   "source": [
    "# Test the model\n",
    "model.eval()\n",
    "test_correct = 0\n",
    "test_total = 0\n",
    "\n",
    "with torch.no_grad():\n",
    "    for images, labels in test_loader:\n",
    "        images, labels = images.to(device), labels.to(device)\n",
    "        outputs = model(images)\n",
    "        _, predicted = torch.max(outputs.data, 1)\n",
    "        test_total += labels.size(0)\n",
    "        test_correct += (predicted == labels).sum().item()\n",
    "\n",
    "test_accuracy = 100 * test_correct / test_total\n",
    "print(f\"Test Accuracy: {test_accuracy:.2f}%\")\n"
   ]
  },
  {
   "cell_type": "code",
   "execution_count": 12,
   "id": "8936ccf3",
   "metadata": {},
   "outputs": [
    {
     "data": {
      "image/png": "[encoded data removed]",
      "text/plain": [
       "<Figure size 1000x800 with 2 Axes>"
      ]
     },
     "metadata": {},
     "output_type": "display_data"
    }
   ],
   "source": [
    "import seaborn as sns\n",
    "import matplotlib.pyplot as plt\n",
    "\n",
    "# Plot confusion matrix as heatmap\n",
    "plt.figure(figsize=(10, 8))\n",
    "sns.heatmap(conf_matrix, annot=True, fmt='d', cmap='Blues')\n",
    "plt.xlabel('Predicted Labels')\n",
    "plt.ylabel('True Labels')\n",
    "plt.title('Confusion Matrix')\n",
    "plt.show()\n"
   ]
  },
  {
   "cell_type": "code",
   "execution_count": 16,
   "id": "e9f9cfdc",
   "metadata": {},
   "outputs": [
    {
     "name": "stdout",
     "output_type": "stream",
     "text": [
      "Model saved successfully.\n"
     ]
    }
   ],
   "source": [
    "import torch\n",
    "\n",
    "# Define the file path where you want to save the model\n",
    "model_path = r'C:\\Users\\gdk14\\Desktop\\gruhit college\\Healthcare Analytics sem 4\\yoga pose detection\\tlmodel.pth'\n",
    "\n",
    "# Save the model\n",
    "torch.save(model.state_dict(), model_path)\n",
    "\n",
    "print(\"Model saved successfully.\")\n"
   ]
  },
  {
   "cell_type": "code",
   "execution_count": null,
   "id": "102edfff",
   "metadata": {},
   "outputs": [],
   "source": []
  }
 ],
 "metadata": {
  "kernelspec": {
   "display_name": "Python 3 (ipykernel)",
   "language": "python",
   "name": "python3"
  },
  "language_info": {
   "codemirror_mode": {
    "name": "ipython",
    "version": 3
   },
   "file_extension": ".py",
   "mimetype": "text/x-python",
   "name": "python",
   "nbconvert_exporter": "python",
   "pygments_lexer": "ipython3",
   "version": "3.11.4"
  }
 },
 "nbformat": 4,
 "nbformat_minor": 5
}
